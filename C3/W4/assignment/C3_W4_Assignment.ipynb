{
  "nbformat": 4,
  "nbformat_minor": 0,
  "metadata": {
    "accelerator": "GPU",
    "colab": {
      "name": "C3_W4_Assignment.ipynb",
      "provenance": [],
      "include_colab_link": true
    },
    "kernelspec": {
      "display_name": "Python 3",
      "language": "python",
      "name": "python3"
    },
    "language_info": {
      "codemirror_mode": {
        "name": "ipython",
        "version": 3
      },
      "file_extension": ".py",
      "mimetype": "text/x-python",
      "name": "python",
      "nbconvert_exporter": "python",
      "pygments_lexer": "ipython3",
      "version": "3.8.5"
    }
  },
  "cells": [
    {
      "cell_type": "markdown",
      "metadata": {
        "id": "view-in-github",
        "colab_type": "text"
      },
      "source": [
        "<a href=\"https://colab.research.google.com/github/MariiaZimokha/DeepLearning.AI/blob/main/C3/W4/assignment/C3_W4_Assignment.ipynb\" target=\"_parent\"><img src=\"https://colab.research.google.com/assets/colab-badge.svg\" alt=\"Open In Colab\"/></a>"
      ]
    },
    {
      "cell_type": "code",
      "metadata": {
        "id": "T2XpcPvbXalN"
      },
      "source": [
        "#@title Licensed under the Apache License, Version 2.0 (the \"License\");\n",
        "# you may not use this file except in compliance with the License.\n",
        "# You may obtain a copy of the License at\n",
        "#\n",
        "# https://www.apache.org/licenses/LICENSE-2.0\n",
        "#\n",
        "# Unless required by applicable law or agreed to in writing, software\n",
        "# distributed under the License is distributed on an \"AS IS\" BASIS,\n",
        "# WITHOUT WARRANTIES OR CONDITIONS OF ANY KIND, either express or implied.\n",
        "# See the License for the specific language governing permissions and\n",
        "# limitations under the License."
      ],
      "execution_count": null,
      "outputs": []
    },
    {
      "cell_type": "markdown",
      "metadata": {
        "id": "eK88h3Y5XalO"
      },
      "source": [
        "**Note:** This notebook can run using TensorFlow 2.5.0"
      ]
    },
    {
      "cell_type": "code",
      "metadata": {
        "id": "zX4Kg8DUTKWO"
      },
      "source": [
        "#!pip install tensorflow==2.5.0"
      ],
      "execution_count": null,
      "outputs": []
    },
    {
      "cell_type": "code",
      "metadata": {
        "id": "BOwsuGQQY9OL"
      },
      "source": [
        "from tensorflow.keras.preprocessing.sequence import pad_sequences\n",
        "from tensorflow.keras.layers import Embedding, LSTM, Dense, Dropout, Bidirectional\n",
        "from tensorflow.keras.preprocessing.text import Tokenizer\n",
        "from tensorflow.keras.models import Sequential\n",
        "from tensorflow.keras.optimizers import Adam\n",
        "### YOUR CODE HERE\n",
        "# Figure out how to import regularizers\n",
        "from tensorflow.keras import regularizers\n",
        "###\n",
        "import tensorflow.keras.utils as ku \n",
        "import numpy as np "
      ],
      "execution_count": 1,
      "outputs": []
    },
    {
      "cell_type": "code",
      "metadata": {
        "id": "PRnDnCW-Z7qv",
        "colab": {
          "base_uri": "https://localhost:8080/"
        },
        "outputId": "2096b49c-7d02-439f-d7bc-d7f43ec4e1d9"
      },
      "source": [
        "tokenizer = Tokenizer()\n",
        "\n",
        "# sonnets.txt\n",
        "!gdown --id 108jAePKK4R3BVYBbYJZ32JWUwxeMg20K\n",
        "\n",
        "data = open('./sonnets.txt').read()\n",
        "\n",
        "corpus = data.lower().split(\"\\n\")\n",
        "\n",
        "\n",
        "tokenizer.fit_on_texts(corpus)\n",
        "total_words = len(tokenizer.word_index) + 1\n",
        "\n",
        "# create input sequences using list of tokens\n",
        "input_sequences = []\n",
        "for line in corpus:\n",
        "\ttoken_list = tokenizer.texts_to_sequences([line])[0]\n",
        "\tfor i in range(1, len(token_list)):\n",
        "\t\tn_gram_sequence = token_list[:i+1]\n",
        "\t\tinput_sequences.append(n_gram_sequence)\n",
        "\n",
        "\n",
        "# pad sequences \n",
        "max_sequence_len = max([len(x) for x in input_sequences])\n",
        "input_sequences = np.array(pad_sequences(input_sequences, maxlen=max_sequence_len, padding='pre'))\n",
        "\n",
        "# create predictors and label\n",
        "predictors, label = input_sequences[:,:-1],input_sequences[:,-1]\n",
        "\n",
        "label = ku.to_categorical(label, num_classes=total_words)"
      ],
      "execution_count": 2,
      "outputs": [
        {
          "output_type": "stream",
          "name": "stdout",
          "text": [
            "Downloading...\n",
            "From: https://drive.google.com/uc?id=108jAePKK4R3BVYBbYJZ32JWUwxeMg20K\n",
            "To: /content/sonnets.txt\n",
            "\r  0% 0.00/93.6k [00:00<?, ?B/s]\r100% 93.6k/93.6k [00:00<00:00, 33.9MB/s]\n"
          ]
        }
      ]
    },
    {
      "cell_type": "code",
      "metadata": {
        "id": "w9vH8Y59ajYL",
        "colab": {
          "base_uri": "https://localhost:8080/"
        },
        "outputId": "9fa1c33e-74f8-43f3-f20d-1fb2a7eb3a43"
      },
      "source": [
        "### START CODE HERE\n",
        "model = Sequential()\n",
        "model.add(Embedding(total_words, 100, input_length=max_sequence_len-1)) # Your Embedding Layer)\n",
        "model.add(Bidirectional(LSTM(150, return_sequences=True)))# An LSTM Layer)\n",
        "model.add(Dropout(0.2)) # A dropout layer)\n",
        "model.add(LSTM(100))# Another LSTM Layer)\n",
        "model.add(Dense(total_words, kernel_regularizer=regularizers.L2(0.01))) # A Dense Layer including regularizers)\n",
        "model.add(Dense(total_words, activation='softmax')) # A Dense Layer)\n",
        "\n",
        "# Pick an optimizer\n",
        "model.compile(\n",
        "    loss='categorical_crossentropy', \n",
        "    optimizer=\"adam\", \n",
        "    metrics=['accuracy']\n",
        ")# Pick a loss function and an optimizer)\n",
        "### END CODE HERE\n",
        "    \n",
        "print(model.summary())"
      ],
      "execution_count": 15,
      "outputs": [
        {
          "output_type": "stream",
          "name": "stdout",
          "text": [
            "Model: \"sequential_9\"\n",
            "_________________________________________________________________\n",
            "Layer (type)                 Output Shape              Param #   \n",
            "=================================================================\n",
            "embedding_9 (Embedding)      (None, 10, 100)           321100    \n",
            "_________________________________________________________________\n",
            "bidirectional_11 (Bidirectio (None, 10, 300)           301200    \n",
            "_________________________________________________________________\n",
            "dropout_9 (Dropout)          (None, 10, 300)           0         \n",
            "_________________________________________________________________\n",
            "lstm_19 (LSTM)               (None, 100)               160400    \n",
            "_________________________________________________________________\n",
            "dense_8 (Dense)              (None, 3211)              324311    \n",
            "_________________________________________________________________\n",
            "dense_9 (Dense)              (None, 3211)              10313732  \n",
            "=================================================================\n",
            "Total params: 11,420,743\n",
            "Trainable params: 11,420,743\n",
            "Non-trainable params: 0\n",
            "_________________________________________________________________\n",
            "None\n"
          ]
        }
      ]
    },
    {
      "cell_type": "code",
      "metadata": {
        "id": "AIg2f1HBxqof",
        "colab": {
          "base_uri": "https://localhost:8080/"
        },
        "outputId": "96f30bfd-d244-4522-8574-38414660fe84"
      },
      "source": [
        " history = model.fit(predictors, label, epochs=100, verbose=1)"
      ],
      "execution_count": 16,
      "outputs": [
        {
          "output_type": "stream",
          "name": "stdout",
          "text": [
            "Epoch 1/100\n",
            "484/484 [==============================] - 62s 23ms/step - loss: 6.9389 - accuracy: 0.0224\n",
            "Epoch 2/100\n",
            "484/484 [==============================] - 10s 21ms/step - loss: 6.4986 - accuracy: 0.0290\n",
            "Epoch 3/100\n",
            "484/484 [==============================] - 10s 21ms/step - loss: 6.3652 - accuracy: 0.0338\n",
            "Epoch 4/100\n",
            "484/484 [==============================] - 10s 20ms/step - loss: 6.2406 - accuracy: 0.0388\n",
            "Epoch 5/100\n",
            "484/484 [==============================] - 10s 21ms/step - loss: 6.1164 - accuracy: 0.0443\n",
            "Epoch 6/100\n",
            "484/484 [==============================] - 10s 21ms/step - loss: 5.9919 - accuracy: 0.0497\n",
            "Epoch 7/100\n",
            "484/484 [==============================] - 10s 21ms/step - loss: 5.8390 - accuracy: 0.0575\n",
            "Epoch 8/100\n",
            "484/484 [==============================] - 10s 20ms/step - loss: 5.6861 - accuracy: 0.0636\n",
            "Epoch 9/100\n",
            "484/484 [==============================] - 10s 20ms/step - loss: 5.5336 - accuracy: 0.0711\n",
            "Epoch 10/100\n",
            "484/484 [==============================] - 10s 21ms/step - loss: 5.3883 - accuracy: 0.0795\n",
            "Epoch 11/100\n",
            "484/484 [==============================] - 10s 21ms/step - loss: 5.2504 - accuracy: 0.0887\n",
            "Epoch 12/100\n",
            "484/484 [==============================] - 10s 21ms/step - loss: 5.1016 - accuracy: 0.0982\n",
            "Epoch 13/100\n",
            "484/484 [==============================] - 10s 21ms/step - loss: 4.9678 - accuracy: 0.1118\n",
            "Epoch 14/100\n",
            "484/484 [==============================] - 10s 21ms/step - loss: 4.8243 - accuracy: 0.1195\n",
            "Epoch 15/100\n",
            "484/484 [==============================] - 10s 20ms/step - loss: 4.6818 - accuracy: 0.1365\n",
            "Epoch 16/100\n",
            "484/484 [==============================] - 10s 21ms/step - loss: 4.5427 - accuracy: 0.1489\n",
            "Epoch 17/100\n",
            "484/484 [==============================] - 10s 20ms/step - loss: 4.3973 - accuracy: 0.1649\n",
            "Epoch 18/100\n",
            "484/484 [==============================] - 10s 20ms/step - loss: 4.2514 - accuracy: 0.1786\n",
            "Epoch 19/100\n",
            "484/484 [==============================] - 10s 21ms/step - loss: 4.1055 - accuracy: 0.1995\n",
            "Epoch 20/100\n",
            "484/484 [==============================] - 10s 21ms/step - loss: 3.9643 - accuracy: 0.2185\n",
            "Epoch 21/100\n",
            "484/484 [==============================] - 10s 20ms/step - loss: 3.8159 - accuracy: 0.2411\n",
            "Epoch 22/100\n",
            "484/484 [==============================] - 10s 20ms/step - loss: 3.6791 - accuracy: 0.2668\n",
            "Epoch 23/100\n",
            "484/484 [==============================] - 10s 21ms/step - loss: 3.5400 - accuracy: 0.2875\n",
            "Epoch 24/100\n",
            "484/484 [==============================] - 10s 21ms/step - loss: 3.3874 - accuracy: 0.3161\n",
            "Epoch 25/100\n",
            "484/484 [==============================] - 10s 21ms/step - loss: 3.2610 - accuracy: 0.3476\n",
            "Epoch 26/100\n",
            "484/484 [==============================] - 10s 21ms/step - loss: 3.1371 - accuracy: 0.3747\n",
            "Epoch 27/100\n",
            "484/484 [==============================] - 10s 20ms/step - loss: 3.0048 - accuracy: 0.3971\n",
            "Epoch 28/100\n",
            "484/484 [==============================] - 10s 20ms/step - loss: 2.8799 - accuracy: 0.4246\n",
            "Epoch 29/100\n",
            "484/484 [==============================] - 10s 21ms/step - loss: 2.7626 - accuracy: 0.4510\n",
            "Epoch 30/100\n",
            "484/484 [==============================] - 10s 21ms/step - loss: 2.6703 - accuracy: 0.4740\n",
            "Epoch 31/100\n",
            "484/484 [==============================] - 10s 20ms/step - loss: 2.5658 - accuracy: 0.4970\n",
            "Epoch 32/100\n",
            "484/484 [==============================] - 10s 21ms/step - loss: 2.4615 - accuracy: 0.5179\n",
            "Epoch 33/100\n",
            "484/484 [==============================] - 10s 20ms/step - loss: 2.3857 - accuracy: 0.5325\n",
            "Epoch 34/100\n",
            "484/484 [==============================] - 10s 20ms/step - loss: 2.3072 - accuracy: 0.5535\n",
            "Epoch 35/100\n",
            "484/484 [==============================] - 10s 21ms/step - loss: 2.2236 - accuracy: 0.5708\n",
            "Epoch 36/100\n",
            "484/484 [==============================] - 10s 21ms/step - loss: 2.1684 - accuracy: 0.5868\n",
            "Epoch 37/100\n",
            "484/484 [==============================] - 10s 21ms/step - loss: 2.0947 - accuracy: 0.5997\n",
            "Epoch 38/100\n",
            "484/484 [==============================] - 10s 21ms/step - loss: 2.0396 - accuracy: 0.6114\n",
            "Epoch 39/100\n",
            "484/484 [==============================] - 10s 20ms/step - loss: 1.9891 - accuracy: 0.6202\n",
            "Epoch 40/100\n",
            "484/484 [==============================] - 10s 20ms/step - loss: 1.9291 - accuracy: 0.6349\n",
            "Epoch 41/100\n",
            "484/484 [==============================] - 10s 20ms/step - loss: 1.8823 - accuracy: 0.6481\n",
            "Epoch 42/100\n",
            "484/484 [==============================] - 10s 21ms/step - loss: 1.8265 - accuracy: 0.6595\n",
            "Epoch 43/100\n",
            "484/484 [==============================] - 10s 21ms/step - loss: 1.8143 - accuracy: 0.6566\n",
            "Epoch 44/100\n",
            "484/484 [==============================] - 10s 21ms/step - loss: 1.7461 - accuracy: 0.6775\n",
            "Epoch 45/100\n",
            "484/484 [==============================] - 10s 21ms/step - loss: 1.7082 - accuracy: 0.6824\n",
            "Epoch 46/100\n",
            "484/484 [==============================] - 10s 21ms/step - loss: 1.6717 - accuracy: 0.6928\n",
            "Epoch 47/100\n",
            "484/484 [==============================] - 10s 21ms/step - loss: 1.6284 - accuracy: 0.7020\n",
            "Epoch 48/100\n",
            "484/484 [==============================] - 10s 21ms/step - loss: 1.6123 - accuracy: 0.7069\n",
            "Epoch 49/100\n",
            "484/484 [==============================] - 10s 21ms/step - loss: 1.5756 - accuracy: 0.7103\n",
            "Epoch 50/100\n",
            "484/484 [==============================] - 10s 21ms/step - loss: 1.5579 - accuracy: 0.7140\n",
            "Epoch 51/100\n",
            "484/484 [==============================] - 10s 21ms/step - loss: 1.5297 - accuracy: 0.7239\n",
            "Epoch 52/100\n",
            "484/484 [==============================] - 10s 21ms/step - loss: 1.5040 - accuracy: 0.7264\n",
            "Epoch 53/100\n",
            "484/484 [==============================] - 10s 21ms/step - loss: 1.4705 - accuracy: 0.7339\n",
            "Epoch 54/100\n",
            "484/484 [==============================] - 10s 21ms/step - loss: 1.4606 - accuracy: 0.7356\n",
            "Epoch 55/100\n",
            "484/484 [==============================] - 10s 21ms/step - loss: 1.4277 - accuracy: 0.7416\n",
            "Epoch 56/100\n",
            "484/484 [==============================] - 10s 21ms/step - loss: 1.3988 - accuracy: 0.7479\n",
            "Epoch 57/100\n",
            "484/484 [==============================] - 10s 21ms/step - loss: 1.4030 - accuracy: 0.7473\n",
            "Epoch 58/100\n",
            "484/484 [==============================] - 10s 21ms/step - loss: 1.3923 - accuracy: 0.7481\n",
            "Epoch 59/100\n",
            "484/484 [==============================] - 10s 21ms/step - loss: 1.4000 - accuracy: 0.7452\n",
            "Epoch 60/100\n",
            "484/484 [==============================] - 10s 21ms/step - loss: 1.3588 - accuracy: 0.7565\n",
            "Epoch 61/100\n",
            "484/484 [==============================] - 10s 21ms/step - loss: 1.3320 - accuracy: 0.7606\n",
            "Epoch 62/100\n",
            "484/484 [==============================] - 10s 21ms/step - loss: 1.3228 - accuracy: 0.7619\n",
            "Epoch 63/100\n",
            "484/484 [==============================] - 10s 21ms/step - loss: 1.2945 - accuracy: 0.7661\n",
            "Epoch 64/100\n",
            "484/484 [==============================] - 10s 21ms/step - loss: 1.2831 - accuracy: 0.7695\n",
            "Epoch 65/100\n",
            "484/484 [==============================] - 10s 21ms/step - loss: 1.3155 - accuracy: 0.7602\n",
            "Epoch 66/100\n",
            "484/484 [==============================] - 10s 21ms/step - loss: 1.2876 - accuracy: 0.7667\n",
            "Epoch 67/100\n",
            "484/484 [==============================] - 10s 20ms/step - loss: 1.2583 - accuracy: 0.7724\n",
            "Epoch 68/100\n",
            "484/484 [==============================] - 10s 20ms/step - loss: 1.2451 - accuracy: 0.7751\n",
            "Epoch 69/100\n",
            "484/484 [==============================] - 10s 21ms/step - loss: 1.2122 - accuracy: 0.7870\n",
            "Epoch 70/100\n",
            "484/484 [==============================] - 10s 20ms/step - loss: 1.2257 - accuracy: 0.7788\n",
            "Epoch 71/100\n",
            "484/484 [==============================] - 10s 21ms/step - loss: 1.2366 - accuracy: 0.7750\n",
            "Epoch 72/100\n",
            "484/484 [==============================] - 10s 21ms/step - loss: 1.2212 - accuracy: 0.7804\n",
            "Epoch 73/100\n",
            "484/484 [==============================] - 10s 20ms/step - loss: 1.2120 - accuracy: 0.7795\n",
            "Epoch 74/100\n",
            "484/484 [==============================] - 10s 21ms/step - loss: 1.2005 - accuracy: 0.7824\n",
            "Epoch 75/100\n",
            "484/484 [==============================] - 10s 21ms/step - loss: 1.1864 - accuracy: 0.7837\n",
            "Epoch 76/100\n",
            "484/484 [==============================] - 10s 21ms/step - loss: 1.1826 - accuracy: 0.7882\n",
            "Epoch 77/100\n",
            "484/484 [==============================] - 10s 21ms/step - loss: 1.1579 - accuracy: 0.7938\n",
            "Epoch 78/100\n",
            "484/484 [==============================] - 10s 21ms/step - loss: 1.1781 - accuracy: 0.7857\n",
            "Epoch 79/100\n",
            "484/484 [==============================] - 10s 21ms/step - loss: 1.1920 - accuracy: 0.7824\n",
            "Epoch 80/100\n",
            "484/484 [==============================] - 10s 21ms/step - loss: 1.1342 - accuracy: 0.7963\n",
            "Epoch 81/100\n",
            "484/484 [==============================] - 10s 21ms/step - loss: 1.1277 - accuracy: 0.7962\n",
            "Epoch 82/100\n",
            "484/484 [==============================] - 10s 21ms/step - loss: 1.1212 - accuracy: 0.7993\n",
            "Epoch 83/100\n",
            "484/484 [==============================] - 10s 20ms/step - loss: 1.1394 - accuracy: 0.7946\n",
            "Epoch 84/100\n",
            "484/484 [==============================] - 10s 20ms/step - loss: 1.1211 - accuracy: 0.7996\n",
            "Epoch 85/100\n",
            "484/484 [==============================] - 10s 21ms/step - loss: 1.1110 - accuracy: 0.7992\n",
            "Epoch 86/100\n",
            "484/484 [==============================] - 10s 21ms/step - loss: 1.1125 - accuracy: 0.8024\n",
            "Epoch 87/100\n",
            "484/484 [==============================] - 10s 21ms/step - loss: 1.1464 - accuracy: 0.7903\n",
            "Epoch 88/100\n",
            "484/484 [==============================] - 10s 21ms/step - loss: 1.1063 - accuracy: 0.7995\n",
            "Epoch 89/100\n",
            "484/484 [==============================] - 10s 21ms/step - loss: 1.0951 - accuracy: 0.8019\n",
            "Epoch 90/100\n",
            "484/484 [==============================] - 10s 21ms/step - loss: 1.0831 - accuracy: 0.8026\n",
            "Epoch 91/100\n",
            "484/484 [==============================] - 10s 21ms/step - loss: 1.1206 - accuracy: 0.7965\n",
            "Epoch 92/100\n",
            "484/484 [==============================] - 10s 21ms/step - loss: 1.0849 - accuracy: 0.8028\n",
            "Epoch 93/100\n",
            "484/484 [==============================] - 10s 21ms/step - loss: 1.0442 - accuracy: 0.8111\n",
            "Epoch 94/100\n",
            "484/484 [==============================] - 10s 21ms/step - loss: 1.0705 - accuracy: 0.8049\n",
            "Epoch 95/100\n",
            "484/484 [==============================] - 10s 21ms/step - loss: 1.0660 - accuracy: 0.8055\n",
            "Epoch 96/100\n",
            "484/484 [==============================] - 10s 21ms/step - loss: 1.0668 - accuracy: 0.8040\n",
            "Epoch 97/100\n",
            "484/484 [==============================] - 10s 20ms/step - loss: 1.0648 - accuracy: 0.8058\n",
            "Epoch 98/100\n",
            "484/484 [==============================] - 10s 21ms/step - loss: 1.0798 - accuracy: 0.8025\n",
            "Epoch 99/100\n",
            "484/484 [==============================] - 10s 21ms/step - loss: 1.0816 - accuracy: 0.8020\n",
            "Epoch 100/100\n",
            "484/484 [==============================] - 10s 21ms/step - loss: 1.0554 - accuracy: 0.8050\n"
          ]
        }
      ]
    },
    {
      "cell_type": "code",
      "metadata": {
        "id": "1fXTEO3GJ282",
        "colab": {
          "base_uri": "https://localhost:8080/",
          "height": 545
        },
        "outputId": "21d542af-5b9e-4031-bb03-4719b4749598"
      },
      "source": [
        "import matplotlib.pyplot as plt\n",
        "acc = history.history['accuracy']\n",
        "loss = history.history['loss']\n",
        "\n",
        "epochs = range(len(acc))\n",
        "\n",
        "plt.plot(epochs, acc, 'b', label='Training accuracy')\n",
        "plt.title('Training accuracy')\n",
        "\n",
        "plt.figure()\n",
        "\n",
        "plt.plot(epochs, loss, 'b', label='Training Loss')\n",
        "plt.title('Training loss')\n",
        "plt.legend()\n",
        "\n",
        "plt.show()"
      ],
      "execution_count": 17,
      "outputs": [
        {
          "output_type": "display_data",
          "data": {
            "image/png": "[encoded data removed]",
            "text/plain": [
              "<Figure size 432x288 with 1 Axes>"
            ]
          },
          "metadata": {
            "needs_background": "light"
          }
        },
        {
          "output_type": "display_data",
          "data": {
            "image/png": "[encoded data removed]",
            "text/plain": [
              "<Figure size 432x288 with 1 Axes>"
            ]
          },
          "metadata": {
            "needs_background": "light"
          }
        }
      ]
    },
    {
      "cell_type": "code",
      "metadata": {
        "id": "6Vc6PHgxa6Hm",
        "colab": {
          "base_uri": "https://localhost:8080/"
        },
        "outputId": "1dfd5e98-a315-4b32-96e6-401d34d292c5"
      },
      "source": [
        "seed_text = \"Help me Obi Wan Kenobi, you're my only hope\"\n",
        "next_words = 100\n",
        "  \n",
        "for _ in range(next_words):\n",
        "\ttoken_list = tokenizer.texts_to_sequences([seed_text])[0]\n",
        "\ttoken_list = pad_sequences([token_list], maxlen=max_sequence_len-1, padding='pre')\n",
        "\tpredicted_x = model.predict(token_list, verbose=0)\n",
        "\tpredicted = np.argmax(predicted_x,axis=1)\n",
        "\toutput_word = \"\"\n",
        "\tfor word, index in tokenizer.word_index.items():\n",
        "\t\tif index == predicted:\n",
        "\t\t\toutput_word = word\n",
        "\t\t\tbreak\n",
        "\tseed_text += \" \" + output_word\n",
        "print(seed_text)"
      ],
      "execution_count": 19,
      "outputs": [
        {
          "output_type": "stream",
          "name": "stdout",
          "text": [
            "Help me Obi Wan Kenobi, you're my only hope eye mine eye untrue back convertest to groan old pride cannot hate with remember thee better well back me doth truly show thee thee ' last to thee shouldst gone so love my monument ' lived doth dull flesh or youth convertest thee near me shall grow shines so shame sort thee made thee by men you gone thee in my knowledge doth doom as doth grow ' stay blot thine age brings scorn to change a brow light cherish light crave light last to thyself canst move leave me told not see where you be hate for you must\n"
          ]
        }
      ]
    }
  ]
}